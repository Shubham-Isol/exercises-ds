{
  "nbformat": 4,
  "nbformat_minor": 0,
  "metadata": {
    "colab": {
      "provenance": []
    },
    "kernelspec": {
      "name": "python3",
      "display_name": "Python 3"
    },
    "language_info": {
      "name": "python"
    }
  },
  "cells": [
    {
      "cell_type": "code",
      "execution_count": null,
      "metadata": {
        "id": "d75vJWcTL7wG"
      },
      "outputs": [],
      "source": [
        "SELECT m.title, r.rental_id, DATEDIFF(r.return_date, r.rental_date) AS promotion_peroid_month FROM rental r\n",
        "JOIN movie m ON r.rental_id = m.movie_id GROUP BY m.title\n",
        "ORDER BY promotion_peroid_month DESC"
      ]
    },
    {
      "cell_type": "code",
      "source": [
        "SELECT m.title, SUM(p.amount) AS total_revenue_generated, DATEDIFF(r.return_date, rental_date) AS Promotion_peroid FROM rental r JOIN movie m ON m.movie_id = r.rental_id JOIN payment p ON r.rental_id = p.rental_id GROUP BY m.title, p.amount;"
      ],
      "metadata": {
        "id": "Aowe3lZDL9Fl"
      },
      "execution_count": null,
      "outputs": []
    },
    {
      "cell_type": "code",
      "source": [
        "SELECT r.customer_id, c.first_name, c.last_name, DATEDIFF(r.return_date, r.rental_date) AS Promotion_period FROM rental r\n",
        "JOIN customer c ON r.customer_id = r.customer_id HAVING COUNT(r.rental_id) > 5\n"
      ],
      "metadata": {
        "id": "dZLDe3L4MDG5"
      },
      "execution_count": null,
      "outputs": []
    },
    {
      "cell_type": "code",
      "source": [
        "merged_data = pd.merge(movie_genre_df, movie_dataset, on='movie_id')\n",
        "average_rental_duration =\n",
        "merged_data.groupby('genre_id')['rental_duration'].mean().reset_index()\n",
        "average_rental_duration.columns = ['Genre', 'Average Rental Duration']\n",
        "print(average_rental_duration)"
      ],
      "metadata": {
        "id": "-lJeLOIIMGTy"
      },
      "execution_count": null,
      "outputs": []
    },
    {
      "cell_type": "code",
      "source": [
        "rental_df['rental_date'] = pd.to_datetime(rental_df['rental_date'])\n",
        "rental_df['day_of_week'] = rental_df['rental_date'].dt.dayofweek\n",
        "rental_counts = rental_df['day_of_week'].value_counts().sort_index()\n",
        "day_names = ['Monday', 'Tuesday', 'Wednesday', 'Thursday', 'Friday',\n",
        "'Saturday', 'Sunday']\n",
        "rental_counts.index = day_names\n",
        "plt.figure(figsize=(10, 6))\n",
        "plt.bar(rental_counts.index, rental_counts.values)\n",
        "plt.xlabel('Day of the Week')\n",
        "plt.ylabel('Number of Rentals')\n",
        "plt.title('Rental Frequency by Day of the Week')\n",
        "plt.xticks(rotation=45)\n",
        "plt.show()"
      ],
      "metadata": {
        "id": "W8Bbw7omMWEs"
      },
      "execution_count": null,
      "outputs": []
    },
    {
      "cell_type": "code",
      "source": [
        "rating_counts = merge_df.groupby('rating').size()\n",
        "movie_counts = merge_df.groupby('movie_id').size()\n",
        "common_movie_ids = set(rating_counts.index) & set(movie_counts.index)\n",
        "rating_counts = rating_counts.loc[list(common_movie_ids)]\n",
        "movie_counts = movie_counts.loc[list(common_movie_ids)]\n",
        "correlation = np.corrcoef(rating_counts, movie_counts)[0,1]\n",
        "print(correlation)"
      ],
      "metadata": {
        "id": "oNtXGy1iMY3S"
      },
      "execution_count": null,
      "outputs": []
    },
    {
      "cell_type": "code",
      "source": [
        "Total_revenue_generated =\n",
        "payment_dataset.groupby('customer_id')['amount'].count().reset_index()\n",
        "Total_revenue_generated.columns = ['customer_id',\n",
        "'Total_revenue_generated']\n",
        "Total_revenue_generated.head()\n",
        "rental_df['rental_date'] = pd.to_datetime(rental_df['rental_date'])\n",
        "rental_df['return_date'] = pd.to_datetime(rental_df['return_date'])\n",
        "rental_df['rental_duration'] = (rental_df['return_date'] -\n",
        "rental_df['rental_date']).dt.days\n",
        "Average_rental_duration =\n",
        "rental_df.groupby('customer_id')['rental_duration'].mean().reset_index()\n",
        "Average_rental_duration.columns = ['customer_id',\n",
        "'Average_rental_duration']\n",
        "rental_df.head()\n",
        "customer_df['Total_renteal_per_customer'] =\n",
        "rental_df.groupby('customer_id')['rental_id'].transform('count')\n",
        "customer_df.head()"
      ],
      "metadata": {
        "id": "E2Q2JSvIMe9p"
      },
      "execution_count": null,
      "outputs": []
    },
    {
      "cell_type": "code",
      "source": [
        "rental_df = pd.read_csv('/content/rental.csv')\n",
        "rental_df.shape\n",
        "rental_df.isnull().sum()\n",
        "rental_df['return_date'] = rental_df['return_date'].fillna(\"unknown\")"
      ],
      "metadata": {
        "id": "9_7KMD9aMjJG"
      },
      "execution_count": null,
      "outputs": []
    },
    {
      "cell_type": "code",
      "source": [
        "dataset['start_date'] = pd.to_datetime(dataset['start_date'])\n",
        "dataset['end_date'] = pd.to_datetime(dataset['end_date'])\n",
        "dataset['rental_duratin'] = (dataset['end_date'] -\n",
        "dataset['start_date']).dt.days\n",
        "dataset.head()"
      ],
      "metadata": {
        "id": "CPRVOO3iMmEy"
      },
      "execution_count": null,
      "outputs": []
    },
    {
      "cell_type": "code",
      "source": [
        "Scaler = MinMaxScaler()\n",
        "payment_dataset['Normalized_payment_amount'] =\n",
        "Scaler.fit_transform(payment_dataset[['amount']])\n",
        "payment_dataset.head()"
      ],
      "metadata": {
        "id": "9LFn9ElCMpK2"
      },
      "execution_count": null,
      "outputs": []
    },
    {
      "cell_type": "code",
      "source": [
        "plt.figure(figsize=(15,6))\n",
        "plt.subplot(1,2,1)\n",
        "sns.histplot(payment_dataset['amount'], bins=30, kde=True)\n",
        "plt.title(\"Payement Amount Distribution before normalization\")\n",
        "plt.xlabel('Payment amount')\n",
        "plt.ylabel('Frequency')\n",
        "plt.figure(figsize=(15,6))\n",
        "plt.subplot(1,2,1)\n",
        "sns.histplot(payment_dataset['Normalized_payment_amount'], bins=30,\n",
        "kde=True)\n",
        "plt.title(\"Payement Amount Distribution after normalization\")\n",
        "plt.xlabel('Normalized Payment amount')\n",
        "plt.ylabel('Frequency')\n",
        "plt.tight_layout()"
      ],
      "metadata": {
        "id": "0nHNIf_cMsaU"
      },
      "execution_count": null,
      "outputs": []
    }
  ]
}